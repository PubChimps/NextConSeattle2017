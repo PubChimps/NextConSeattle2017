{
 "cells": [
  {
   "cell_type": "markdown",
   "metadata": {},
   "source": [
    "# AI NEXTCon 2018 Dataset Creation"
   ]
  },
  {
   "cell_type": "markdown",
   "metadata": {},
   "source": [
    "Download pygithub, import libraries, and authenticate with your github credentials "
   ]
  },
  {
   "cell_type": "code",
   "execution_count": null,
   "metadata": {
    "collapsed": true
   },
   "outputs": [],
   "source": [
    "!pip install pygithub"
   ]
  },
  {
   "cell_type": "code",
   "execution_count": null,
   "metadata": {
    "collapsed": true
   },
   "outputs": [],
   "source": [
    "import github\n",
    "import base64\n",
    "import numpy as np\n",
    "from github import GithubException\n",
    "\n",
    "login = \"\" ###ENTER your Github username \n",
    "token = \"\" ###ENTER your Github token\n",
    "\n",
    "#more information here http://pygithub.readthedocs.io/en/latest/introduction.html\n",
    "\n",
    "g = github.Github(login, token)\n",
    "\n",
    "repos = []\n",
    "\n",
    "#we are only going to look at code with the following extensions, trying changing for other\n",
    "#programming langauges and for binary classificition (2, not 8, classes)\n",
    "targetlangs = ['.go','.java','.js','.m','.py','.sh','.swift','.xml']\n",
    "\n",
    "#get the list of repos at https://github.com/IBM\n",
    "### Try different users/organization to vary dataset size and contents\n",
    "for repo in g.get_organization('IBM').get_repos():\n",
    "    repos.append(repo.name)"
   ]
  },
  {
   "cell_type": "markdown",
   "metadata": {},
   "source": [
    "List repos"
   ]
  },
  {
   "cell_type": "code",
   "execution_count": null,
   "metadata": {
    "collapsed": true
   },
   "outputs": [],
   "source": []
  },
  {
   "cell_type": "markdown",
   "metadata": {},
   "source": [
    "## Download Directory\n",
    "\n",
    "This function recursively crawls through each file/directory starting at the given repo and path. \n",
    "It is similar in functionality to the \"find\" linux command\n",
    "Calls to GitHub API are wrapped in Try/Except blocks to ignore errors, there will be plenty of code to grab for our dataset"
   ]
  },
  {
   "cell_type": "code",
   "execution_count": 32,
   "metadata": {
    "collapsed": true
   },
   "outputs": [],
   "source": [
    "def download_directory(repository, path):\n",
    "    global dataset\n",
    "    try:\n",
    "        contents = repository.get_contents(path)\n",
    "        for content in contents:\n",
    "            if content.type == 'dir':\n",
    "                download_directory(repository, content.path)\n",
    "            else:\n",
    "                if content.content:\n",
    "                    if len(str(content.name).split(\".\")) == 2:\n",
    "                        if any(substring == (\".\" + str(content.name).split(\".\")[1]) for substring in targetlangs):                           \n",
    "                            try:\n",
    "                                dataset.append([base64.b64decode(content.content),str(content.name).split(\".\")[1]])\n",
    "                            except (GithubException, IOError) as exc:\n",
    "                                print 'Error processing %s: %s', content.path, exc\n",
    "    except (GithubException, IOError) as exc:\n",
    "        print \"error in dir \" \n"
   ]
  },
  {
   "cell_type": "markdown",
   "metadata": {},
   "source": [
    "loop through each repo and grab the contents that match one of our target languages\n",
    "they are being places in a multidimensional list with \n",
    "dataset[i][0] being the code text and dataset[i][1] being the code's file extenstion\n",
    " \n",
    "\n",
    "if a 403 RateLimitExceededException from github happens just pick up in the next repo, again plenty of code"
   ]
  },
  {
   "cell_type": "code",
   "execution_count": null,
   "metadata": {
    "collapsed": true
   },
   "outputs": [],
   "source": [
    "dataset = []\n",
    "\n",
    "for i in range(len(repos[1:])):\n",
    "    if i % 2 == 0:\n",
    "        print \"getting repo \" + str(i) + \" of \" + str(len(repos[1:]))\n",
    "    repo = org.get_repo(str(repos[i]))\n",
    "    download_directory(repo, \"\")\n",
    "\n",
    "    \n",
    "#repeat if necessary \n",
    "'''\n",
    "for i in range(len(repos[1:])):\n",
    "    if i % 2 == 0:\n",
    "        print \"getting repo \" + str(i) + \" of \" + str(len(repos[1:]))\n",
    "    repo = org.get_repo(str(repos[i]))\n",
    "    download_directory(repo, \"\")\n",
    "'''"
   ]
  },
  {
   "cell_type": "markdown",
   "metadata": {},
   "source": [
    "Once you dataset that is a size you are comfortable with, try printing some examples"
   ]
  },
  {
   "cell_type": "code",
   "execution_count": null,
   "metadata": {
    "collapsed": true
   },
   "outputs": [],
   "source": [
    "print dataset[0][0]"
   ]
  },
  {
   "cell_type": "code",
   "execution_count": null,
   "metadata": {
    "collapsed": true
   },
   "outputs": [],
   "source": [
    "print dataset[0][1]"
   ]
  }
 ],
 "metadata": {
  "kernelspec": {
   "display_name": "Python 2",
   "language": "python",
   "name": "python2"
  },
  "language_info": {
   "codemirror_mode": {
    "name": "ipython",
    "version": 2
   },
   "file_extension": ".py",
   "mimetype": "text/x-python",
   "name": "python",
   "nbconvert_exporter": "python",
   "pygments_lexer": "ipython2",
   "version": "2.7.13"
  }
 },
 "nbformat": 4,
 "nbformat_minor": 2
}
